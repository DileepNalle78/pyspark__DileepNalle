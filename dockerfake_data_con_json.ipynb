{
  "nbformat": 4,
  "nbformat_minor": 0,
  "metadata": {
    "colab": {
      "provenance": [],
      "authorship_tag": "ABX9TyO9ooH/hPPMTSGQcYqBtNLj",
      "include_colab_link": true
    },
    "kernelspec": {
      "name": "python3",
      "display_name": "Python 3"
    },
    "language_info": {
      "name": "python"
    }
  },
  "cells": [
    {
      "cell_type": "markdown",
      "metadata": {
        "id": "view-in-github",
        "colab_type": "text"
      },
      "source": [
        "<a href=\"https://colab.research.google.com/github/DileepNalle78/pyspark__DileepNalle/blob/main/dockerfake_data_con_json.ipynb\" target=\"_parent\"><img src=\"https://colab.research.google.com/assets/colab-badge.svg\" alt=\"Open In Colab\"/></a>"
      ]
    },
    {
      "cell_type": "code",
      "execution_count": 1,
      "metadata": {
        "colab": {
          "base_uri": "https://localhost:8080/"
        },
        "id": "Ulj8WW-PF3x7",
        "outputId": "18cf0d57-98d2-4288-c27d-0226dcac3741"
      },
      "outputs": [
        {
          "output_type": "stream",
          "name": "stdout",
          "text": [
            "Mounted at /content/drive\n"
          ]
        }
      ],
      "source": [
        "# 1. Mount Google Drive\n",
        "from google.colab import drive\n",
        "drive.mount('/content/drive')\n"
      ]
    },
    {
      "cell_type": "code",
      "source": [
        "# 2. Import required libraries\n",
        "import os\n",
        "import pandas as pd\n",
        "\n",
        "# 3. Set folder path\n",
        "folder_path = \"/content/drive/MyDrive/empdata\"\n",
        "\n",
        "# 4. Read all CSV files in the folder\n",
        "all_data = []\n",
        "\n",
        "for filename in sorted(os.listdir(folder_path)):\n",
        "    if filename.endswith(\".csv\"):\n",
        "        file_path = os.path.join(folder_path, filename)\n",
        "        try:\n",
        "            df = pd.read_csv(file_path, header=None, names=[\"EmpID\", \"Name\", \"Department\", \"Salary\", \"UUID\"], engine='python', on_bad_lines='skip')\n",
        "            all_data.append(df)\n",
        "        except Exception as e:\n",
        "            print(f\"Error reading {filename}: {e}\")\n",
        "\n",
        "\n",
        "# 5. Combine all data\n",
        "combined_df = pd.concat(all_data, ignore_index=True)\n",
        "\n",
        "# 6. Output JSON path\n",
        "json_output_path = os.path.join(folder_path, \"all_employees.json\")\n",
        "\n",
        "# 7. Save as JSON\n",
        "combined_df.to_json(json_output_path, orient=\"records\", lines=True)\n",
        "\n",
        "print(f\"✅ JSON saved at: {json_output_path}\")"
      ],
      "metadata": {
        "colab": {
          "base_uri": "https://localhost:8080/"
        },
        "id": "hHdojmvaGKob",
        "outputId": "a8f0bffc-dcb4-425d-e1ad-aa7e53be215c"
      },
      "execution_count": 3,
      "outputs": [
        {
          "output_type": "stream",
          "name": "stdout",
          "text": [
            "✅ JSON saved at: /content/drive/MyDrive/empdata/all_employees.json\n"
          ]
        }
      ]
    }
  ]
}